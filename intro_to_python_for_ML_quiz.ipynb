{
  "nbformat": 4,
  "nbformat_minor": 0,
  "metadata": {
    "colab": {
      "name": "intro to python for ML quiz.ipynb",
      "provenance": [],
      "authorship_tag": "ABX9TyOdY+GtqkQS9/wf4dVZNtei",
      "include_colab_link": true
    },
    "kernelspec": {
      "name": "python3",
      "display_name": "Python 3"
    },
    "language_info": {
      "name": "python"
    }
  },
  "cells": [
    {
      "cell_type": "markdown",
      "metadata": {
        "id": "view-in-github",
        "colab_type": "text"
      },
      "source": [
        "<a href=\"https://colab.research.google.com/github/obi-tech/Hamoye-Internship/blob/main/intro_to_python_for_ML_quiz.ipynb\" target=\"_parent\"><img src=\"https://colab.research.google.com/assets/colab-badge.svg\" alt=\"Open In Colab\"/></a>"
      ]
    },
    {
      "cell_type": "code",
      "execution_count": 1,
      "metadata": {
        "id": "7gN1IzWIHd4U"
      },
      "outputs": [],
      "source": [
        "import numpy as np"
      ]
    },
    {
      "cell_type": "code",
      "source": [
        "import pandas as pd"
      ],
      "metadata": {
        "id": "2Jwm3foeILn-"
      },
      "execution_count": 2,
      "outputs": []
    },
    {
      "cell_type": "code",
      "source": [
        "url ='https://github.com/HamoyeHQ/HDSC-Introduction-to-Python-for-machine-learning/files/7768140/FoodBalanceSheets_E_Africa_NOFLAG.csv'\n",
        "ag_data = pd.read_csv(url, encoding='latin-1')\n",
        "print(ag_data)"
      ],
      "metadata": {
        "colab": {
          "base_uri": "https://localhost:8080/"
        },
        "id": "ezgcUnrsIPQZ",
        "outputId": "b547aa75-f2b6-4bd2-e888-bdb4f51afed2"
      },
      "execution_count": 3,
      "outputs": [
        {
          "output_type": "stream",
          "name": "stdout",
          "text": [
            "       Area Code      Area  Item Code  ...     Y2016     Y2017     Y2018\n",
            "0              4   Algeria       2501  ...  40551.00  41389.00  42228.00\n",
            "1              4   Algeria       2501  ...      0.00      0.00      0.00\n",
            "2              4   Algeria       2901  ...   3372.00   3341.00   3322.00\n",
            "3              4   Algeria       2901  ...     94.72     92.82     91.83\n",
            "4              4   Algeria       2901  ...     77.40     80.19     77.28\n",
            "...          ...       ...        ...  ...       ...       ...       ...\n",
            "60938        181  Zimbabwe       2899  ...     33.00     19.00     16.00\n",
            "60939        181  Zimbabwe       2899  ...      2.35      1.33      1.08\n",
            "60940        181  Zimbabwe       2899  ...      3.00      1.00      1.00\n",
            "60941        181  Zimbabwe       2899  ...      0.08      0.04      0.04\n",
            "60942        181  Zimbabwe       2899  ...      0.03      0.02      0.01\n",
            "\n",
            "[60943 rows x 12 columns]\n"
          ]
        }
      ]
    },
    {
      "cell_type": "code",
      "source": [
        "ag_data.groupby('Item')['Item'].count()"
      ],
      "metadata": {
        "colab": {
          "base_uri": "https://localhost:8080/"
        },
        "id": "OVanLmqOIWzv",
        "outputId": "69dc17ab-b430-4752-d79c-1c439934755f"
      },
      "execution_count": 19,
      "outputs": [
        {
          "output_type": "execute_result",
          "data": {
            "text/plain": [
              "Item\n",
              "Alcohol, Non-Food      283\n",
              "Alcoholic Beverages    564\n",
              "Animal Products        135\n",
              "Animal fats            639\n",
              "Apples and products    517\n",
              "                      ... \n",
              "Vegetables, Other      583\n",
              "Vegetal Products       135\n",
              "Wheat and products     653\n",
              "Wine                   497\n",
              "Yams                   383\n",
              "Name: Item, Length: 119, dtype: int64"
            ]
          },
          "metadata": {},
          "execution_count": 19
        }
      ]
    },
    {
      "cell_type": "code",
      "source": [
        "ag_data.describe()"
      ],
      "metadata": {
        "colab": {
          "base_uri": "https://localhost:8080/",
          "height": 300
        },
        "id": "OhjKzQ5yNXQA",
        "outputId": "0d87566c-9fc9-4b9b-dee7-effa84119ed9"
      },
      "execution_count": 9,
      "outputs": [
        {
          "output_type": "execute_result",
          "data": {
            "text/html": [
              "\n",
              "  <div id=\"df-52c9833c-8e4a-4cbc-9e1b-82853f234a2b\">\n",
              "    <div class=\"colab-df-container\">\n",
              "      <div>\n",
              "<style scoped>\n",
              "    .dataframe tbody tr th:only-of-type {\n",
              "        vertical-align: middle;\n",
              "    }\n",
              "\n",
              "    .dataframe tbody tr th {\n",
              "        vertical-align: top;\n",
              "    }\n",
              "\n",
              "    .dataframe thead th {\n",
              "        text-align: right;\n",
              "    }\n",
              "</style>\n",
              "<table border=\"1\" class=\"dataframe\">\n",
              "  <thead>\n",
              "    <tr style=\"text-align: right;\">\n",
              "      <th></th>\n",
              "      <th>Area Code</th>\n",
              "      <th>Item Code</th>\n",
              "      <th>Element Code</th>\n",
              "      <th>Y2014</th>\n",
              "      <th>Y2015</th>\n",
              "      <th>Y2016</th>\n",
              "      <th>Y2017</th>\n",
              "      <th>Y2018</th>\n",
              "    </tr>\n",
              "  </thead>\n",
              "  <tbody>\n",
              "    <tr>\n",
              "      <th>count</th>\n",
              "      <td>60943.000000</td>\n",
              "      <td>60943.000000</td>\n",
              "      <td>60943.000000</td>\n",
              "      <td>59354.000000</td>\n",
              "      <td>59395.000000</td>\n",
              "      <td>59408.000000</td>\n",
              "      <td>59437.000000</td>\n",
              "      <td>59507.000000</td>\n",
              "    </tr>\n",
              "    <tr>\n",
              "      <th>mean</th>\n",
              "      <td>134.265576</td>\n",
              "      <td>2687.176706</td>\n",
              "      <td>3814.856456</td>\n",
              "      <td>134.196282</td>\n",
              "      <td>135.235966</td>\n",
              "      <td>136.555222</td>\n",
              "      <td>140.917765</td>\n",
              "      <td>143.758381</td>\n",
              "    </tr>\n",
              "    <tr>\n",
              "      <th>std</th>\n",
              "      <td>72.605709</td>\n",
              "      <td>146.055739</td>\n",
              "      <td>2212.007033</td>\n",
              "      <td>1567.663696</td>\n",
              "      <td>1603.403984</td>\n",
              "      <td>1640.007194</td>\n",
              "      <td>1671.862359</td>\n",
              "      <td>1710.782658</td>\n",
              "    </tr>\n",
              "    <tr>\n",
              "      <th>min</th>\n",
              "      <td>4.000000</td>\n",
              "      <td>2501.000000</td>\n",
              "      <td>511.000000</td>\n",
              "      <td>-1796.000000</td>\n",
              "      <td>-3161.000000</td>\n",
              "      <td>-3225.000000</td>\n",
              "      <td>-1582.000000</td>\n",
              "      <td>-3396.000000</td>\n",
              "    </tr>\n",
              "    <tr>\n",
              "      <th>25%</th>\n",
              "      <td>74.000000</td>\n",
              "      <td>2562.000000</td>\n",
              "      <td>684.000000</td>\n",
              "      <td>0.000000</td>\n",
              "      <td>0.000000</td>\n",
              "      <td>0.000000</td>\n",
              "      <td>0.000000</td>\n",
              "      <td>0.000000</td>\n",
              "    </tr>\n",
              "    <tr>\n",
              "      <th>50%</th>\n",
              "      <td>136.000000</td>\n",
              "      <td>2630.000000</td>\n",
              "      <td>5142.000000</td>\n",
              "      <td>0.090000</td>\n",
              "      <td>0.080000</td>\n",
              "      <td>0.080000</td>\n",
              "      <td>0.100000</td>\n",
              "      <td>0.070000</td>\n",
              "    </tr>\n",
              "    <tr>\n",
              "      <th>75%</th>\n",
              "      <td>195.000000</td>\n",
              "      <td>2775.000000</td>\n",
              "      <td>5511.000000</td>\n",
              "      <td>8.340000</td>\n",
              "      <td>8.460000</td>\n",
              "      <td>8.430000</td>\n",
              "      <td>9.000000</td>\n",
              "      <td>9.000000</td>\n",
              "    </tr>\n",
              "    <tr>\n",
              "      <th>max</th>\n",
              "      <td>276.000000</td>\n",
              "      <td>2961.000000</td>\n",
              "      <td>5911.000000</td>\n",
              "      <td>176405.000000</td>\n",
              "      <td>181137.000000</td>\n",
              "      <td>185960.000000</td>\n",
              "      <td>190873.000000</td>\n",
              "      <td>195875.000000</td>\n",
              "    </tr>\n",
              "  </tbody>\n",
              "</table>\n",
              "</div>\n",
              "      <button class=\"colab-df-convert\" onclick=\"convertToInteractive('df-52c9833c-8e4a-4cbc-9e1b-82853f234a2b')\"\n",
              "              title=\"Convert this dataframe to an interactive table.\"\n",
              "              style=\"display:none;\">\n",
              "        \n",
              "  <svg xmlns=\"http://www.w3.org/2000/svg\" height=\"24px\"viewBox=\"0 0 24 24\"\n",
              "       width=\"24px\">\n",
              "    <path d=\"M0 0h24v24H0V0z\" fill=\"none\"/>\n",
              "    <path d=\"M18.56 5.44l.94 2.06.94-2.06 2.06-.94-2.06-.94-.94-2.06-.94 2.06-2.06.94zm-11 1L8.5 8.5l.94-2.06 2.06-.94-2.06-.94L8.5 2.5l-.94 2.06-2.06.94zm10 10l.94 2.06.94-2.06 2.06-.94-2.06-.94-.94-2.06-.94 2.06-2.06.94z\"/><path d=\"M17.41 7.96l-1.37-1.37c-.4-.4-.92-.59-1.43-.59-.52 0-1.04.2-1.43.59L10.3 9.45l-7.72 7.72c-.78.78-.78 2.05 0 2.83L4 21.41c.39.39.9.59 1.41.59.51 0 1.02-.2 1.41-.59l7.78-7.78 2.81-2.81c.8-.78.8-2.07 0-2.86zM5.41 20L4 18.59l7.72-7.72 1.47 1.35L5.41 20z\"/>\n",
              "  </svg>\n",
              "      </button>\n",
              "      \n",
              "  <style>\n",
              "    .colab-df-container {\n",
              "      display:flex;\n",
              "      flex-wrap:wrap;\n",
              "      gap: 12px;\n",
              "    }\n",
              "\n",
              "    .colab-df-convert {\n",
              "      background-color: #E8F0FE;\n",
              "      border: none;\n",
              "      border-radius: 50%;\n",
              "      cursor: pointer;\n",
              "      display: none;\n",
              "      fill: #1967D2;\n",
              "      height: 32px;\n",
              "      padding: 0 0 0 0;\n",
              "      width: 32px;\n",
              "    }\n",
              "\n",
              "    .colab-df-convert:hover {\n",
              "      background-color: #E2EBFA;\n",
              "      box-shadow: 0px 1px 2px rgba(60, 64, 67, 0.3), 0px 1px 3px 1px rgba(60, 64, 67, 0.15);\n",
              "      fill: #174EA6;\n",
              "    }\n",
              "\n",
              "    [theme=dark] .colab-df-convert {\n",
              "      background-color: #3B4455;\n",
              "      fill: #D2E3FC;\n",
              "    }\n",
              "\n",
              "    [theme=dark] .colab-df-convert:hover {\n",
              "      background-color: #434B5C;\n",
              "      box-shadow: 0px 1px 3px 1px rgba(0, 0, 0, 0.15);\n",
              "      filter: drop-shadow(0px 1px 2px rgba(0, 0, 0, 0.3));\n",
              "      fill: #FFFFFF;\n",
              "    }\n",
              "  </style>\n",
              "\n",
              "      <script>\n",
              "        const buttonEl =\n",
              "          document.querySelector('#df-52c9833c-8e4a-4cbc-9e1b-82853f234a2b button.colab-df-convert');\n",
              "        buttonEl.style.display =\n",
              "          google.colab.kernel.accessAllowed ? 'block' : 'none';\n",
              "\n",
              "        async function convertToInteractive(key) {\n",
              "          const element = document.querySelector('#df-52c9833c-8e4a-4cbc-9e1b-82853f234a2b');\n",
              "          const dataTable =\n",
              "            await google.colab.kernel.invokeFunction('convertToInteractive',\n",
              "                                                     [key], {});\n",
              "          if (!dataTable) return;\n",
              "\n",
              "          const docLinkHtml = 'Like what you see? Visit the ' +\n",
              "            '<a target=\"_blank\" href=https://colab.research.google.com/notebooks/data_table.ipynb>data table notebook</a>'\n",
              "            + ' to learn more about interactive tables.';\n",
              "          element.innerHTML = '';\n",
              "          dataTable['output_type'] = 'display_data';\n",
              "          await google.colab.output.renderOutput(dataTable, element);\n",
              "          const docLink = document.createElement('div');\n",
              "          docLink.innerHTML = docLinkHtml;\n",
              "          element.appendChild(docLink);\n",
              "        }\n",
              "      </script>\n",
              "    </div>\n",
              "  </div>\n",
              "  "
            ],
            "text/plain": [
              "          Area Code     Item Code  ...          Y2017          Y2018\n",
              "count  60943.000000  60943.000000  ...   59437.000000   59507.000000\n",
              "mean     134.265576   2687.176706  ...     140.917765     143.758381\n",
              "std       72.605709    146.055739  ...    1671.862359    1710.782658\n",
              "min        4.000000   2501.000000  ...   -1582.000000   -3396.000000\n",
              "25%       74.000000   2562.000000  ...       0.000000       0.000000\n",
              "50%      136.000000   2630.000000  ...       0.100000       0.070000\n",
              "75%      195.000000   2775.000000  ...       9.000000       9.000000\n",
              "max      276.000000   2961.000000  ...  190873.000000  195875.000000\n",
              "\n",
              "[8 rows x 8 columns]"
            ]
          },
          "metadata": {},
          "execution_count": 9
        }
      ]
    },
    {
      "cell_type": "code",
      "source": [
        "ag_data.isnull().sum()"
      ],
      "metadata": {
        "colab": {
          "base_uri": "https://localhost:8080/"
        },
        "id": "WfqM1_mFPPM8",
        "outputId": "671983bb-fa15-4194-a211-aa0a72093c81"
      },
      "execution_count": 10,
      "outputs": [
        {
          "output_type": "execute_result",
          "data": {
            "text/plain": [
              "Area Code          0\n",
              "Area               0\n",
              "Item Code          0\n",
              "Item               0\n",
              "Element Code       0\n",
              "Element            0\n",
              "Unit               0\n",
              "Y2014           1589\n",
              "Y2015           1548\n",
              "Y2016           1535\n",
              "Y2017           1506\n",
              "Y2018           1436\n",
              "dtype: int64"
            ]
          },
          "metadata": {},
          "execution_count": 10
        }
      ]
    },
    {
      "cell_type": "code",
      "source": [
        "ag_data.groupby('Element')['Element'].count()"
      ],
      "metadata": {
        "colab": {
          "base_uri": "https://localhost:8080/"
        },
        "id": "f1T9yCfkPU6A",
        "outputId": "d85227d7-720b-439d-8d86-a2ec68f57de6"
      },
      "execution_count": 14,
      "outputs": [
        {
          "output_type": "execute_result",
          "data": {
            "text/plain": [
              "Element\n",
              "Domestic supply quantity                  5295\n",
              "Export Quantity                           4403\n",
              "Fat supply quantity (g/capita/day)        5023\n",
              "Feed                                      1319\n",
              "Food                                      4941\n",
              "Food supply (kcal/capita/day)             5014\n",
              "Food supply quantity (kg/capita/yr)       4905\n",
              "Import Quantity                           5139\n",
              "Losses                                    2009\n",
              "Other uses (non-food)                     1732\n",
              "Processing                                2010\n",
              "Production                                3881\n",
              "Protein supply quantity (g/capita/day)    5023\n",
              "Residuals                                 4655\n",
              "Seed                                       762\n",
              "Stock Variation                           4232\n",
              "Total Population - Both sexes               45\n",
              "Tourist consumption                        555\n",
              "Name: Element, dtype: int64"
            ]
          },
          "metadata": {},
          "execution_count": 14
        }
      ]
    },
    {
      "cell_type": "code",
      "source": [
        "ag_data[['Element']]=ag_data[['Element']].sum"
      ],
      "metadata": {
        "id": "0qOlKBfyP0TC"
      },
      "execution_count": 15,
      "outputs": []
    },
    {
      "cell_type": "code",
      "source": [
        "import seaborn as sns\n",
        "sample_df = ag_data.sample(n= 50 , random_state= 4 )\n",
        "sns.regplot(x=sample_df[ \"Element Code\" ], y=sample_df[ \"Y2014\" ],\n",
        "fit_reg= False )"
      ],
      "metadata": {
        "colab": {
          "base_uri": "https://localhost:8080/",
          "height": 296
        },
        "id": "mC4te2ZiUKzM",
        "outputId": "75b05759-de3a-435d-8b06-cc0c3799a2da"
      },
      "execution_count": 21,
      "outputs": [
        {
          "output_type": "execute_result",
          "data": {
            "text/plain": [
              "<matplotlib.axes._subplots.AxesSubplot at 0x7fe44ce6aad0>"
            ]
          },
          "metadata": {},
          "execution_count": 21
        },
        {
          "output_type": "display_data",
          "data": {
            "image/png": "[encoded data removed]",
            "text/plain": [
              "<Figure size 432x288 with 1 Axes>"
            ]
          },
          "metadata": {
            "needs_background": "light"
          }
        }
      ]
    },
    {
      "cell_type": "code",
      "source": [
        "ag_data.groupby('Area')['Area'].count()"
      ],
      "metadata": {
        "colab": {
          "base_uri": "https://localhost:8080/"
        },
        "id": "8Fqd_rWsTY3S",
        "outputId": "c1458236-510e-4a62-80ae-94a0f6923674"
      },
      "execution_count": 16,
      "outputs": [
        {
          "output_type": "execute_result",
          "data": {
            "text/plain": [
              "Area\n",
              "Algeria                        1313\n",
              "Angola                         1424\n",
              "Benin                          1285\n",
              "Botswana                       1378\n",
              "Burkina Faso                   1409\n",
              "Cabo Verde                     1260\n",
              "Cameroon                       1460\n",
              "Central African Republic       1344\n",
              "Chad                           1343\n",
              "Comoros                          45\n",
              "Congo                          1413\n",
              "Côte d'Ivoire                  1467\n",
              "Djibouti                       1095\n",
              "Egypt                          1488\n",
              "Eswatini                       1284\n",
              "Ethiopia                       1447\n",
              "Ethiopia PDR                     39\n",
              "Gabon                          1245\n",
              "Gambia                         1168\n",
              "Ghana                          1354\n",
              "Guinea                         1410\n",
              "Guinea-Bissau                  1128\n",
              "Kenya                          1560\n",
              "Lesotho                        1150\n",
              "Liberia                        1206\n",
              "Madagascar                     1439\n",
              "Malawi                         1447\n",
              "Mali                           1293\n",
              "Mauritania                     1195\n",
              "Mauritius                      1378\n",
              "Morocco                        1393\n",
              "Mozambique                     1427\n",
              "Namibia                        1283\n",
              "Niger                          1403\n",
              "Nigeria                        1474\n",
              "Rwanda                         1426\n",
              "Sao Tome and Principe          1177\n",
              "Senegal                        1462\n",
              "Seychelles                       68\n",
              "Sierra Leone                   1242\n",
              "South Africa                   1399\n",
              "Sudan                          1316\n",
              "Sudan (former)                   53\n",
              "Togo                           1294\n",
              "Tunisia                        1338\n",
              "Uganda                         1458\n",
              "United Republic of Tanzania    1419\n",
              "Zambia                         1451\n",
              "Zimbabwe                       1393\n",
              "Name: Area, dtype: int64"
            ]
          },
          "metadata": {},
          "execution_count": 16
        }
      ]
    }
  ]
}